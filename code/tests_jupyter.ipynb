{
 "cells": [
  {
   "cell_type": "markdown",
   "source": [
    "# Lib Checker"
   ],
   "metadata": {
    "collapsed": false
   }
  },
  {
   "cell_type": "markdown",
   "source": [
    "Connect to Atlasian to get all repositories"
   ],
   "metadata": {
    "collapsed": false
   }
  },
  {
   "cell_type": "code",
   "execution_count": 9,
   "outputs": [
    {
     "name": "stdout",
     "output_type": "stream",
     "text": [
      "https://api.bitbucket.org/2.0/workspaces/hackathon-br-ca/search/code?search_query=build.gradle\n"
     ]
    }
   ],
   "source": [
    "import requests\n",
    "from urllib.parse import quote_plus\n",
    "\n",
    "# Your credentials and endpoint\n",
    "BASE_URL = \"https://api.bitbucket.org/2.0/workspaces\"\n",
    "RAW_BASE_URL = \"https://api.bitbucket.org/2.0/repositories\"\n",
    "USERNAME = \"rfonseca85\"\n",
    "PASSWORD = \"\"  # Use app password or OAuth token\n",
    "WORKSPACE = \"hackathon-br-ca\"\n",
    "\n",
    "# The search query\n",
    "SEARCH_QUERY = \"build.gradle\"\n",
    "\n",
    "# Properly encode the search query to be used in a URL\n",
    "encoded_query = quote_plus(SEARCH_QUERY)\n",
    "\n",
    "# Construct the search URL\n",
    "search_url = f\"{BASE_URL}/{WORKSPACE}/search/code?search_query={encoded_query}\"\n",
    "#search_url = f\"https://api.bitbucket.org/2.0/repositories/hackathon-br-ca/realtaxcanada-java/search/code?q={encoded_query}\"\n",
    "\n",
    "print(search_url)"
   ],
   "metadata": {
    "collapsed": false
   }
  },
  {
   "cell_type": "code",
   "execution_count": 10,
   "outputs": [
    {
     "name": "stdout",
     "output_type": "stream",
     "text": [
      "<Response [200]>\n"
     ]
    }
   ],
   "source": [
    "# Make the request\n",
    "response = requests.get(search_url, auth=(USERNAME, PASSWORD))\n",
    "print(response)"
   ],
   "metadata": {
    "collapsed": false
   }
  },
  {
   "cell_type": "code",
   "execution_count": 11,
   "outputs": [],
   "source": [
    "# Check if the request was successful\n",
    "if response.status_code == 200:\n",
    "    search_results = response.json()\n",
    "    files = []\n",
    "    for result in search_results['values']:\n",
    "\n",
    "        file = {\n",
    "            'name': result['file']['path'],\n",
    "            'path': result['file']['links']['self']['href'],\n",
    "            'content': ''\n",
    "        }\n",
    "        files.append(file)\n",
    "else:\n",
    "    print(\"Failed to search the repository:\", response.status_code, response.text)"
   ],
   "metadata": {
    "collapsed": false
   }
  },
  {
   "cell_type": "code",
   "execution_count": 12,
   "outputs": [
    {
     "name": "stdout",
     "output_type": "stream",
     "text": [
      "[{'name': 'build.gradle', 'path': 'https://api.bitbucket.org/2.0/repositories/hackathon-br-ca/webportal-api/src/2dd6ea7706e6e1e29473f273b7fc06fd495ac0b1/build.gradle', 'content': ''}, {'name': 'build.gradle', 'path': 'https://api.bitbucket.org/2.0/repositories/hackathon-br-ca/realtaxcanada-java/src/5fbbd82ca4039ea7d4132abbb2f860445a0b742e/build.gradle', 'content': ''}]\n"
     ]
    }
   ],
   "source": [
    "print (files)"
   ],
   "metadata": {
    "collapsed": false
   }
  },
  {
   "cell_type": "code",
   "execution_count": 8,
   "outputs": [
    {
     "name": "stdout",
     "output_type": "stream",
     "text": [
      "{\n",
      "  \"name\": \"easycanada\",\n",
      "  \"version\": \"1.0.0\",\n",
      "  \"description\": \"Website project\",\n",
      "  \"main\": \"index.js\",\n",
      "  \"scripts\": {\n",
      "    \"test\": \"echo \\\"Error: no test specified\\\" && exit 1\",\n",
      "    \"compile-sass\": \"node-sass --include-path scss assets/sass/main.scss assets/css/main.min.css --output-style compressed\",\n",
      "    \"watch\": \"nodemon -e scss -x \\\"npm run compile-sass\\\"\"\n",
      "  },\n",
      "  \"repository\": {\n",
      "    \"type\": \"git\",\n",
      "    \"url\": \"git+https://pedrohymino@bitbucket.org/pedrohymino/easy-canada.git\"\n",
      "  },\n",
      "  \"keywords\": [\n",
      "    \"easy\",\n",
      "    \"canada\",\n",
      "    \"easycanada\"\n",
      "  ],\n",
      "  \"author\": \"Pedro Hymino\",\n",
      "  \"license\": \"ISC\",\n",
      "  \"homepage\": \"\",\n",
      "  \"devDependencies\": {\n",
      "    \"node-sass\": \"4.11.0\",\n",
      "    \"nodemon\": \"1.18.11\"\n",
      "  },\n",
      "  \"dependencies\": {}\n",
      "}\n",
      "\n"
     ]
    }
   ],
   "source": [
    "raw_url = f\"https://api.bitbucket.org/2.0/repositories/hackathon-br-ca/realtaxcanada-php/src/master/package.json\"\n",
    "code = requests.get(raw_url, auth=(USERNAME, PASSWORD))\n",
    "print(code.text)"
   ],
   "metadata": {
    "collapsed": false
   }
  }
 ],
 "metadata": {
  "kernelspec": {
   "display_name": "Python 3",
   "language": "python",
   "name": "python3"
  },
  "language_info": {
   "codemirror_mode": {
    "name": "ipython",
    "version": 2
   },
   "file_extension": ".py",
   "mimetype": "text/x-python",
   "name": "python",
   "nbconvert_exporter": "python",
   "pygments_lexer": "ipython2",
   "version": "2.7.6"
  }
 },
 "nbformat": 4,
 "nbformat_minor": 0
}
