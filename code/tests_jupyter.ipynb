{
 "cells": [
  {
   "cell_type": "markdown",
   "source": [
    "# Lib Checker"
   ],
   "metadata": {
    "collapsed": false
   }
  },
  {
   "cell_type": "markdown",
   "source": [
    "Connect to Atlasian to get all repositories"
   ],
   "metadata": {
    "collapsed": false
   }
  },
  {
   "cell_type": "code",
   "execution_count": 12,
   "outputs": [
    {
     "name": "stdout",
     "output_type": "stream",
     "text": [
      "https://api.bitbucket.org/2.0/workspaces/articledev/search/code?search_query=pom.xml\n"
     ]
    }
   ],
   "source": [
    "import requests\n",
    "from urllib.parse import quote_plus\n",
    "\n",
    "# Your credentials and endpoint\n",
    "BASE_URL = \"https://api.bitbucket.org/2.0/workspaces\"\n",
    "USERNAME = \"\"\n",
    "PASSWORD = \"\"  # Use app password or OAuth token\n",
    "WORKSPACE = \"\"\n",
    "\n",
    "# The search query\n",
    "SEARCH_QUERY = \"pom.xml\"\n",
    "\n",
    "# Properly encode the search query to be used in a URL\n",
    "encoded_query = quote_plus(SEARCH_QUERY)\n",
    "\n",
    "# Construct the search URL\n",
    "search_url = f\"{BASE_URL}/{WORKSPACE}/search/code?search_query={encoded_query}\"\n",
    "#search_url = f\"https://api.bitbucket.org/2.0/repositories/hackathon-br-ca/realtaxcanada-java/search/code?q={encoded_query}\"\n",
    "\n",
    "print(search_url)"
   ],
   "metadata": {
    "collapsed": false
   }
  },
  {
   "cell_type": "code",
   "execution_count": 13,
   "outputs": [
    {
     "name": "stdout",
     "output_type": "stream",
     "text": [
      "<Response [401]>\n"
     ]
    }
   ],
   "source": [
    "# Make the request\n",
    "response = requests.get(search_url, auth=(USERNAME, PASSWORD))\n",
    "print(response)"
   ],
   "metadata": {
    "collapsed": false
   }
  },
  {
   "cell_type": "code",
   "execution_count": null,
   "outputs": [],
   "source": [
    "# Check if the request was successful\n",
    "if response.status_code == 200:\n",
    "    search_results = response.json()\n",
    "    files = []\n",
    "    for result in search_results['values']:\n",
    "        path = result['file']['links']['self']['href']\n",
    "        file = {\n",
    "            'name': result['file']['path'],\n",
    "            'path': path,\n",
    "            'content': requests.get(path, auth=(USERNAME, PASSWORD)).text\n",
    "        }\n",
    "        files.append(file)\n",
    "else:\n",
    "    print(\"Failed to search the repository:\", response.status_code, response.text)"
   ],
   "metadata": {
    "collapsed": false
   }
  },
  {
   "cell_type": "code",
   "execution_count": null,
   "outputs": [],
   "source": [
    "for file in files:\n",
    "    print ('########################## -- ' + file['name'] + ' -- ##################################')\n",
    "    print (file['content'])"
   ],
   "metadata": {
    "collapsed": false
   }
  }
 ],
 "metadata": {
  "kernelspec": {
   "display_name": "Python 3",
   "language": "python",
   "name": "python3"
  },
  "language_info": {
   "codemirror_mode": {
    "name": "ipython",
    "version": 2
   },
   "file_extension": ".py",
   "mimetype": "text/x-python",
   "name": "python",
   "nbconvert_exporter": "python",
   "pygments_lexer": "ipython2",
   "version": "2.7.6"
  }
 },
 "nbformat": 4,
 "nbformat_minor": 0
}
